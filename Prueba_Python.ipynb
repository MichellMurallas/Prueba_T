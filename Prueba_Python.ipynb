{
  "nbformat": 4,
  "nbformat_minor": 0,
  "metadata": {
    "colab": {
      "provenance": []
    },
    "kernelspec": {
      "name": "python3",
      "display_name": "Python 3"
    },
    "language_info": {
      "name": "python"
    }
  },
  "cells": [
    {
      "cell_type": "markdown",
      "source": [
        "# Ejemplo de Recursividad"
      ],
      "metadata": {
        "id": "winmfLywUTeC"
      }
    },
    {
      "cell_type": "code",
      "source": [
        "def recursividad(number):\n",
        "  number -= 1\n",
        "  if number > 0:\n",
        "    print(number)\n",
        "    recursividad(number)\n",
        "  else:\n",
        "    print(\"regresando\")\n",
        "recursividad(10)"
      ],
      "metadata": {
        "id": "sri2Jn_YUQL0"
      },
      "execution_count": null,
      "outputs": []
    },
    {
      "cell_type": "markdown",
      "source": [
        "#Ejemplo factorial de un número entero no negativo."
      ],
      "metadata": {
        "id": "elLbnwldd-sQ"
      }
    },
    {
      "cell_type": "code",
      "source": [
        "numero=int(input(\"Ingrese un numero \"))\n",
        "factor=1\n",
        "if numero !=0:\n",
        "  for i in range(1,numero+1):\n",
        "    factor=factor*i\n",
        "print(\"El factorial del numero ingresado es:\", factor)"
      ],
      "metadata": {
        "colab": {
          "base_uri": "https://localhost:8080/"
        },
        "id": "EVVqFJdacISp",
        "outputId": "d9e1c4e2-deb9-4a57-9a52-f56f82f85f9d"
      },
      "execution_count": null,
      "outputs": [
        {
          "output_type": "stream",
          "name": "stdout",
          "text": [
            "Ingrese un numero 7\n",
            "El factorial del numero ingresado es: 5040\n"
          ]
        }
      ]
    },
    {
      "cell_type": "markdown",
      "source": [
        "#función que cuente la cantidad de palabras en una cadena de texto."
      ],
      "metadata": {
        "id": "t5J-NwbxjdPG"
      }
    },
    {
      "cell_type": "code",
      "source": [
        "text = input((\"Escriba una oracion que contenga varias palabras:  \"))\n",
        "i=0\n",
        "c=1\n",
        "while i < len(text):\n",
        "  if text[i] == \" \":\n",
        "    c= c + 1\n",
        "  i= i + 1\n",
        "print(f'El texto escrito contiene {c}  palabras')"
      ],
      "metadata": {
        "colab": {
          "base_uri": "https://localhost:8080/"
        },
        "id": "NJPzgzcbjy5b",
        "outputId": "41f40893-c00f-4b97-c131-f75bba7e8f98"
      },
      "execution_count": null,
      "outputs": [
        {
          "output_type": "stream",
          "name": "stdout",
          "text": [
            "Escriba una oracion que contenga varias palabras:  vamos todos\n",
            "El texto escrito contiene 2  palabras\n"
          ]
        }
      ]
    }
  ]
}